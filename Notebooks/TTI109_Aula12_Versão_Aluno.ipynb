{
  "cells": [
    {
      "cell_type": "markdown",
      "metadata": {
        "id": "CdeADdIO4kg7"
      },
      "source": [
        "# Encontrando escores-z\n",
        "Dada uma área (uma probabilidade), qual o correspondente escore-z relativo à uma distribuição normal padrão? O método *ppf (Percent Point Function)* da classe *stats.norm* resolve esse problema.\n",
        "\n",
        "*   Determine o escore-*z* que tenha 96,16% da área de distribuição à sua direita.\n",
        "*   Determine o escore-*z* para o qual 95% da área de distribuição esteja entre *–z* e *z*.\n"
      ]
    },
    {
      "cell_type": "code",
      "execution_count": 27,
      "metadata": {
        "id": "NZ_FkG5tW0QD"
      },
      "outputs": [
        {
          "name": "stdout",
          "output_type": "stream",
          "text": [
            "z1 = -1.770\n",
            "Conferindo... Área à direita = 96.16%\n",
            "z2 = -1.960\n",
            "Conferindo... Área à esquerda de z = -1.960 é 2.50%\n",
            "Conferindo... Área à direita de z = 1.960 é 2.50%\n"
          ]
        }
      ],
      "source": [
        "from scipy import stats\n",
        "# Construindo a distribuição normal padrão\n",
        "mu, std = 0, 1\n",
        "normpad = stats.norm(loc=mu, scale=std)\n",
        "# Escore-z que tenha 96,16% da área de distribuição à sua direita\n",
        "z1 = normpad.ppf(1-0.9616)\n",
        "print(f'z1 = {z1:.3f}')\n",
        "print(f'Conferindo... Área à direita = {normpad.sf(z1)*100:.2f}%')\n",
        "# Escore-z para o qual 95% da área de distribuição esteja entre –z e z\n",
        "z2 = normpad.ppf(0.025) #ou normpad.ppf(1-0.025) se olhar para a cauda da direita (2.5 de cada lado)\n",
        "print(f'z2 = {z2:.3f}')\n",
        "print(f'Conferindo... Área à esquerda de z = {z2:.3f} é {normpad.cdf(z2)*100:.2f}%')\n",
        "print(f'Conferindo... Área à direita de z = {-z2:.3f} é {normpad.sf(-z2)*100:.2f}%')"
      ]
    },
    {
      "cell_type": "markdown",
      "metadata": {
        "id": "1EK-ITbCJdoO"
      },
      "source": [
        "**Exercício:** Um pesquisador testa as distâncias de frenagem de diversos carros. A distância de frenagem de 60 milhas por hora até uma parada completa em pista seca é medida em pés. As distâncias de frenagem de uma\n",
        "amostra de carros são normalmente distribuídas, com média de 129 pés e desvio padrão de 5,18 pés.\n",
        "\n",
        "Qual é a maior distância de frenagem que um desses carros poderia ter e ainda estar no grupo do 1% mais baixo? (*Adaptado de: Consumer Reports*)"
      ]
    },
    {
      "cell_type": "code",
      "execution_count": 28,
      "metadata": {
        "id": "h8ozlqPSJc_o"
      },
      "outputs": [
        {
          "name": "stdout",
          "output_type": "stream",
          "text": [
            "Distância máxima = 116.95 pés\n",
            "Conferindo... Área à esquerda = 1.00%\n"
          ]
        }
      ],
      "source": [
        "# Construindo a distribuição normal das distâncias de frenagem\n",
        "mu, std = 129, 5.18\n",
        "normpad = stats.norm(mu, std)\n",
        "# Distância máxima com 1% da área de distribuição à sua esquerda\n",
        "dist = normpad.ppf(0.01)\n",
        "print(f'Distância máxima = {dist:.2f} pés')\n",
        "print(f'Conferindo... Área à esquerda = {normpad.cdf(dist)*100:.2f}%')"
      ]
    },
    {
      "cell_type": "markdown",
      "metadata": {
        "id": "54dxW5xhKvEu"
      },
      "source": [
        "**Exercício:** O tempo de trabalho dos funcionários em uma empresa é normalmente distribuído, com média de 11,2 anos e desvio padrão de 2,1 anos.\n",
        "\n",
        "Em uma redução de quadro, os 10% com menos tempo na empresa são demitidos. Qual é o tempo máximo que um funcionário pode ter trabalhado na empresa e ainda assim ser cortado?"
      ]
    },
    {
      "cell_type": "code",
      "execution_count": 29,
      "metadata": {
        "id": "m9rd8lK_K4aO"
      },
      "outputs": [
        {
          "name": "stdout",
          "output_type": "stream",
          "text": [
            "Distância máxima = 8.51 anos\n",
            "Conferindo... Área à esquerda = 10.00%\n"
          ]
        }
      ],
      "source": [
        "# Construindo a distribuição normal dos tempos de empresa\n",
        "mu, std = 11.2, 2.1\n",
        "normpad = stats.norm(mu, std)\n",
        "# Tempo de empresa máximo com 10% da área de distribuição à sua esquerda\n",
        "tempo = normpad.ppf(0.1)\n",
        "print(f'Distância máxima = {tempo:.2f} anos')\n",
        "print(f'Conferindo... Área à esquerda = {normpad.cdf(tempo)*100:.2f}%')"
      ]
    },
    {
      "cell_type": "markdown",
      "metadata": {
        "id": "FH34JYg4BpHj"
      },
      "source": [
        "# Distribuições amostrais\n",
        "**Exercício:** Os valores populacionais $\\{1, 3, 5, 7\\}$ são equiprováveis. Esses valores são escritos em pedaços de papel e colocados em uma caixa. Então, selecionam-se dois pedaços de papel aleatoriamente, com reposição.\n",
        "\n",
        "*   **(a)** Liste todas as amostras possíveis de tamanho $𝑛 = 2$ e calcule suas respectivas médias.\n",
        "*   **(b)** Encontre a média, a variância e o desvio\n",
        "padrão das médias amostrais.\n",
        "*   **(c)** Compare seus resultados com a média $\\mu = 4$,\n",
        "variância $\\sigma^2 = 5$, e desvio padrão $\\sigma \\approx 2,236$ da população.\n",
        "\n",
        "\n"
      ]
    },
    {
      "cell_type": "code",
      "execution_count": 30,
      "metadata": {
        "id": "7L96dWDcC20x"
      },
      "outputs": [
        {
          "data": {
            "text/html": [
              "<div>\n",
              "<style scoped>\n",
              "    .dataframe tbody tr th:only-of-type {\n",
              "        vertical-align: middle;\n",
              "    }\n",
              "\n",
              "    .dataframe tbody tr th {\n",
              "        vertical-align: top;\n",
              "    }\n",
              "\n",
              "    .dataframe thead th {\n",
              "        text-align: right;\n",
              "    }\n",
              "</style>\n",
              "<table border=\"1\" class=\"dataframe\">\n",
              "  <thead>\n",
              "    <tr style=\"text-align: right;\">\n",
              "      <th></th>\n",
              "      <th>Amostras</th>\n",
              "      <th>Média</th>\n",
              "    </tr>\n",
              "  </thead>\n",
              "  <tbody>\n",
              "    <tr>\n",
              "      <th>0</th>\n",
              "      <td>(1, 1)</td>\n",
              "      <td>1.0</td>\n",
              "    </tr>\n",
              "    <tr>\n",
              "      <th>1</th>\n",
              "      <td>(1, 3)</td>\n",
              "      <td>2.0</td>\n",
              "    </tr>\n",
              "    <tr>\n",
              "      <th>2</th>\n",
              "      <td>(1, 5)</td>\n",
              "      <td>3.0</td>\n",
              "    </tr>\n",
              "    <tr>\n",
              "      <th>3</th>\n",
              "      <td>(1, 7)</td>\n",
              "      <td>4.0</td>\n",
              "    </tr>\n",
              "    <tr>\n",
              "      <th>4</th>\n",
              "      <td>(3, 1)</td>\n",
              "      <td>2.0</td>\n",
              "    </tr>\n",
              "    <tr>\n",
              "      <th>5</th>\n",
              "      <td>(3, 3)</td>\n",
              "      <td>3.0</td>\n",
              "    </tr>\n",
              "    <tr>\n",
              "      <th>6</th>\n",
              "      <td>(3, 5)</td>\n",
              "      <td>4.0</td>\n",
              "    </tr>\n",
              "    <tr>\n",
              "      <th>7</th>\n",
              "      <td>(3, 7)</td>\n",
              "      <td>5.0</td>\n",
              "    </tr>\n",
              "    <tr>\n",
              "      <th>8</th>\n",
              "      <td>(5, 1)</td>\n",
              "      <td>3.0</td>\n",
              "    </tr>\n",
              "    <tr>\n",
              "      <th>9</th>\n",
              "      <td>(5, 3)</td>\n",
              "      <td>4.0</td>\n",
              "    </tr>\n",
              "    <tr>\n",
              "      <th>10</th>\n",
              "      <td>(5, 5)</td>\n",
              "      <td>5.0</td>\n",
              "    </tr>\n",
              "    <tr>\n",
              "      <th>11</th>\n",
              "      <td>(5, 7)</td>\n",
              "      <td>6.0</td>\n",
              "    </tr>\n",
              "    <tr>\n",
              "      <th>12</th>\n",
              "      <td>(7, 1)</td>\n",
              "      <td>4.0</td>\n",
              "    </tr>\n",
              "    <tr>\n",
              "      <th>13</th>\n",
              "      <td>(7, 3)</td>\n",
              "      <td>5.0</td>\n",
              "    </tr>\n",
              "    <tr>\n",
              "      <th>14</th>\n",
              "      <td>(7, 5)</td>\n",
              "      <td>6.0</td>\n",
              "    </tr>\n",
              "    <tr>\n",
              "      <th>15</th>\n",
              "      <td>(7, 7)</td>\n",
              "      <td>7.0</td>\n",
              "    </tr>\n",
              "  </tbody>\n",
              "</table>\n",
              "</div>"
            ],
            "text/plain": [
              "   Amostras  Média\n",
              "0    (1, 1)    1.0\n",
              "1    (1, 3)    2.0\n",
              "2    (1, 5)    3.0\n",
              "3    (1, 7)    4.0\n",
              "4    (3, 1)    2.0\n",
              "5    (3, 3)    3.0\n",
              "6    (3, 5)    4.0\n",
              "7    (3, 7)    5.0\n",
              "8    (5, 1)    3.0\n",
              "9    (5, 3)    4.0\n",
              "10   (5, 5)    5.0\n",
              "11   (5, 7)    6.0\n",
              "12   (7, 1)    4.0\n",
              "13   (7, 3)    5.0\n",
              "14   (7, 5)    6.0\n",
              "15   (7, 7)    7.0"
            ]
          },
          "metadata": {},
          "output_type": "display_data"
        }
      ],
      "source": [
        "import itertools as it\n",
        "import pandas as pd\n",
        "## Item (a)\n",
        "# Chave para permutação\n",
        "chave = [1, 3, 5, 7]\n",
        "# Geração de todas as amostras possíveis de tamanho 2\n",
        "am2a2 = list(it.product(chave, repeat=2))\n",
        "# Criação de tabela com possíveis amostras, acompanhadas de suas médias\n",
        "amostras = pd.DataFrame({'Amostras': am2a2,\n",
        "                         'Média': [(x1+x2)/2 for (x1, x2) in am2a2]})\n",
        "display(amostras)"
      ]
    },
    {
      "cell_type": "code",
      "execution_count": 31,
      "metadata": {
        "id": "3IU0L_aZGaMi"
      },
      "outputs": [
        {
          "data": {
            "text/html": [
              "<div>\n",
              "<style scoped>\n",
              "    .dataframe tbody tr th:only-of-type {\n",
              "        vertical-align: middle;\n",
              "    }\n",
              "\n",
              "    .dataframe tbody tr th {\n",
              "        vertical-align: top;\n",
              "    }\n",
              "\n",
              "    .dataframe thead th {\n",
              "        text-align: right;\n",
              "    }\n",
              "</style>\n",
              "<table border=\"1\" class=\"dataframe\">\n",
              "  <thead>\n",
              "    <tr style=\"text-align: right;\">\n",
              "      <th></th>\n",
              "      <th>Médias</th>\n",
              "      <th>Frequência</th>\n",
              "      <th>Probabilidade</th>\n",
              "    </tr>\n",
              "  </thead>\n",
              "  <tbody>\n",
              "    <tr>\n",
              "      <th>1.0</th>\n",
              "      <td>1.0</td>\n",
              "      <td>1</td>\n",
              "      <td>0.0625</td>\n",
              "    </tr>\n",
              "    <tr>\n",
              "      <th>2.0</th>\n",
              "      <td>2.0</td>\n",
              "      <td>2</td>\n",
              "      <td>0.1250</td>\n",
              "    </tr>\n",
              "    <tr>\n",
              "      <th>3.0</th>\n",
              "      <td>3.0</td>\n",
              "      <td>3</td>\n",
              "      <td>0.1875</td>\n",
              "    </tr>\n",
              "    <tr>\n",
              "      <th>4.0</th>\n",
              "      <td>4.0</td>\n",
              "      <td>4</td>\n",
              "      <td>0.2500</td>\n",
              "    </tr>\n",
              "    <tr>\n",
              "      <th>5.0</th>\n",
              "      <td>5.0</td>\n",
              "      <td>3</td>\n",
              "      <td>0.1875</td>\n",
              "    </tr>\n",
              "    <tr>\n",
              "      <th>6.0</th>\n",
              "      <td>6.0</td>\n",
              "      <td>2</td>\n",
              "      <td>0.1250</td>\n",
              "    </tr>\n",
              "    <tr>\n",
              "      <th>7.0</th>\n",
              "      <td>7.0</td>\n",
              "      <td>1</td>\n",
              "      <td>0.0625</td>\n",
              "    </tr>\n",
              "  </tbody>\n",
              "</table>\n",
              "</div>"
            ],
            "text/plain": [
              "     Médias  Frequência  Probabilidade\n",
              "1.0     1.0           1         0.0625\n",
              "2.0     2.0           2         0.1250\n",
              "3.0     3.0           3         0.1875\n",
              "4.0     4.0           4         0.2500\n",
              "5.0     5.0           3         0.1875\n",
              "6.0     6.0           2         0.1250\n",
              "7.0     7.0           1         0.0625"
            ]
          },
          "metadata": {},
          "output_type": "display_data"
        },
        {
          "name": "stdout",
          "output_type": "stream",
          "text": [
            "Média das médias amostrais = 4.00\n",
            "Variância das médias amostrais = 2.50\n",
            "Desvio padrão das médias amostrais = 1.58\n"
          ]
        }
      ],
      "source": [
        "## Item (b)\n",
        "# Determinação da frequência de cada média\n",
        "contagem = amostras['Média'].value_counts().sort_index()\n",
        "# Criação de tabela com as possíveis médias e suas respectivas probabilidades\n",
        "dist_prob = pd.DataFrame({'Médias': contagem.index,\n",
        "                         'Frequência': contagem})\n",
        "dist_prob['Probabilidade'] = dist_prob['Frequência'] / dist_prob['Frequência'].sum()\n",
        "display(dist_prob)\n",
        "# Cálculo da média das médias amostrais\n",
        "media_amostras = (dist_prob['Médias']*dist_prob['Probabilidade']).sum()\n",
        "print(f'Média das médias amostrais = {media_amostras:.2f}')\n",
        "# Cálculo da variância das médias amostrais\n",
        "var_amostras = (dist_prob['Médias']**2*dist_prob['Probabilidade']).sum() - media_amostras**2\n",
        "print(f'Variância das médias amostrais = {var_amostras:.2f}')\n",
        "# Cálculo do desvio padrão das médias amostrais\n",
        "std_amostras = var_amostras**0.5\n",
        "print(f'Desvio padrão das médias amostrais = {std_amostras:.2f}')"
      ]
    },
    {
      "cell_type": "code",
      "execution_count": 32,
      "metadata": {
        "id": "uz1hY6mMMpPa"
      },
      "outputs": [
        {
          "name": "stdout",
          "output_type": "stream",
          "text": [
            "De acordo com a teoria das distribuições amostrais:\n",
            "A média mu_x = 4.00 deve ser igual a média populacional mu = 4.\n",
            "O desvio padrão sigma_x = 1.58 deve ser igual a sigma/raiz(n) = 1.58\n"
          ]
        }
      ],
      "source": [
        "## Item (c)\n",
        "mu, std = 4, 5**0.5\n",
        "print('De acordo com a teoria das distribuições amostrais:')\n",
        "print(f'A média mu_x = {media_amostras:.2f} deve ser igual a média populacional mu = {mu}.')\n",
        "print(f'O desvio padrão sigma_x = {std_amostras:.2f} deve ser igual a sigma/raiz(n) = {std/2**0.5:.2f}')"
      ]
    },
    {
      "cell_type": "markdown",
      "metadata": {
        "id": "yFR9X9cbc4gx"
      },
      "source": [
        "# Probabilidades e o TLC\n",
        "**Exercício:** O gasto médio com alojamento e refeição, por ano, em faculdades de quatro anos é de US\\$ 9.126,00. Você seleciona aleatoriamente 9 dessas faculdades. Qual é a probabilidade de que a média de gastos com alojamento e refeição seja menor que US\\$ 9.400,00?\n",
        "\n",
        "Suponha que os gastos com alojamento e refeição sejam normalmente distribuídos, com desvio padrão de US$ 1.500,00 (*Adaptado de: National Center for\n",
        "Education Statistics*)."
      ]
    },
    {
      "cell_type": "code",
      "execution_count": 33,
      "metadata": {
        "id": "WdysGeb5dUZw"
      },
      "outputs": [
        {
          "name": "stdout",
          "output_type": "stream",
          "text": [
            "A probabilidade de que os gastos sejam inferiores a US$ 94k é de 70.82%.\n"
          ]
        }
      ],
      "source": [
        "# Determinação da média e desvio padrão amostrais\n",
        "mu, std, n = 9126, 1500, 9\n",
        "mu_x, std_x = mu, std/n**0.5\n",
        "# Geração da distribuição normal amostral (TLC)\n",
        "gastos = stats.norm(mu_x, std_x)\n",
        "# Cálculo da probabilidade\n",
        "prob = gastos.cdf(9400)\n",
        "print(f'A probabilidade de que os gastos sejam inferiores a US$ 94k é de {prob*100:.2f}%.')"
      ]
    },
    {
      "cell_type": "markdown",
      "metadata": {
        "id": "Ia4PRRmIetnW"
      },
      "source": [
        "**Exercício:** A dívida média no cartão de crédito mantida por universitários é normalmente distribuída, com média de US\\$ 3.173,00 e desvio padrão de\n",
        "US\\$ 1.120,00 (*Adaptado de: Sallie Mae*).\n",
        "\n",
        "*   Qual é a probabilidade de que um universitário selecionado aleatoriamente,\n",
        "que possui um cartão de crédito, tenha uma divida menor\n",
        "que US\\$ 2.700?\n",
        "*   Você seleciona aleatoriamente 25 universitários que possuem cartão\n",
        "de crédito. Qual é a probabilidade de que a média dessas dívidas\n",
        "médias seja menor que US\\$ 2.700?"
      ]
    },
    {
      "cell_type": "code",
      "execution_count": 36,
      "metadata": {
        "id": "20UIchWzfeq1"
      },
      "outputs": [
        {
          "name": "stdout",
          "output_type": "stream",
          "text": [
            "P(dívida <= 2700.00) = 33.64%.\n",
            "P(dívida média <= 2700.00) = 1.74%.\n"
          ]
        }
      ],
      "source": [
        "'''No primeiro item, devemos calcular a probabilidade associada a um determinado\n",
        "valor da variável aleatória dívida no cartão de crédito.'''\n",
        "# Geração da distribuição normal da população\n",
        "mu, std = 3173, 1120\n",
        "divida_pop = stats.norm(mu, std)\n",
        "# Cálculo da probabilidade\n",
        "prob1 = divida_pop.cdf(2700)\n",
        "print(f'P(dívida <= 2700.00) = {prob1*100:.2f}%.')\n",
        "'''No segundo item, devemos calcular uma probabilidade associada a uma\n",
        "média amostral.'''\n",
        "# Geração da distribuição das médias amostrais\n",
        "n = 25\n",
        "mu_x, std_x = 3173, std/n**0.5\n",
        "divida_amostra = stats.norm(mu_x, std_x)\n",
        "# Cálculo da probabilidade\n",
        "prob2 = divida_amostra.cdf(2700)\n",
        "print(f'P(dívida média <= 2700.00) = {prob2*100:.2f}%.')"
      ]
    }
  ],
  "metadata": {
    "colab": {
      "collapsed_sections": [],
      "provenance": []
    },
    "kernelspec": {
      "display_name": "Python 3.9.7 ('base')",
      "language": "python",
      "name": "python3"
    },
    "language_info": {
      "codemirror_mode": {
        "name": "ipython",
        "version": 3
      },
      "file_extension": ".py",
      "mimetype": "text/x-python",
      "name": "python",
      "nbconvert_exporter": "python",
      "pygments_lexer": "ipython3",
      "version": "3.9.7"
    },
    "vscode": {
      "interpreter": {
        "hash": "ad2bdc8ecc057115af97d19610ffacc2b4e99fae6737bb82f5d7fb13d2f2c186"
      }
    }
  },
  "nbformat": 4,
  "nbformat_minor": 0
}
